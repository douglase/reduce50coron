{
 "cells": [
  {
   "cell_type": "code",
   "execution_count": 21,
   "metadata": {},
   "outputs": [],
   "source": [
    "import astropy.io.fits as fits\n",
    "import glob\n",
    "import shutil\n",
    "import os\n",
    "from pathlib import Path\n",
    "srcdir=\"/Volumes/Seagate Backup Plus Encrypted/HST_data/50coron/anonymous72577/\"\n",
    "destdir=\"/Volumes/Seagate Backup Plus Encrypted/HST_data/50coron/\""
   ]
  },
  {
   "cell_type": "markdown",
   "metadata": {},
   "source": [
    "See\n",
    "https://hst-docs.stsci.edu/stisdhb/chapter-2-stis-data-structure/2-4-headers-keywords-and-relationship-to-phase-ii\n",
    "\n"
   ]
  },
  {
   "cell_type": "code",
   "execution_count": 46,
   "metadata": {},
   "outputs": [],
   "source": [
    "for f in glob.glob(srcdir+\"*.fits\"):\n",
    "    hd=fits.getheader(f)\n",
    "    propaper=hd[\"PROPAPER\"] #proposed aperture name\n",
    "    sorted_dest=destdir+\"/\"+propaper.replace(\".\",\"_\")\n",
    "    Path(sorted_dest).mkdir(parents=True, exist_ok=True)\n",
    "    shutil.copy(f,sorted_dest+'/'+f.split(\"/\")[-1])\n",
    "    #print(hd[\"OBSMODE\"])"
   ]
  },
  {
   "cell_type": "code",
   "execution_count": 41,
   "metadata": {},
   "outputs": [
    {
     "name": "stdout",
     "output_type": "stream",
     "text": [
      "oe3m04030_flt.fits\n"
     ]
    }
   ],
   "source": [
    "print(''+f.split(\"/\")[-1])"
   ]
  },
  {
   "cell_type": "code",
   "execution_count": 34,
   "metadata": {},
   "outputs": [],
   "source": [
    "shutil.copy?"
   ]
  },
  {
   "cell_type": "code",
   "execution_count": null,
   "metadata": {},
   "outputs": [],
   "source": []
  }
 ],
 "metadata": {
  "kernelspec": {
   "display_name": "Python [conda env:anaconda]",
   "language": "python",
   "name": "conda-env-anaconda-py"
  },
  "language_info": {
   "codemirror_mode": {
    "name": "ipython",
    "version": 3
   },
   "file_extension": ".py",
   "mimetype": "text/x-python",
   "name": "python",
   "nbconvert_exporter": "python",
   "pygments_lexer": "ipython3",
   "version": "3.5.6"
  }
 },
 "nbformat": 4,
 "nbformat_minor": 4
}
